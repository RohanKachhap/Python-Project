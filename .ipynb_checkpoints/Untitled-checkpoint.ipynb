{
 "cells": [
  {
   "cell_type": "code",
   "execution_count": 1,
   "id": "10b14daf-9ae7-48f3-b893-32eafb72be20",
   "metadata": {},
   "outputs": [],
   "source": [
    "def ghatega(x,y):\n",
    "    result = x-y\n",
    "    return result\n"
   ]
  },
  {
   "cell_type": "code",
   "execution_count": 3,
   "id": "e419b94a-57e0-40e2-8b5a-e948c407fe96",
   "metadata": {},
   "outputs": [
    {
     "data": {
      "text/plain": [
       "15"
      ]
     },
     "execution_count": 3,
     "metadata": {},
     "output_type": "execute_result"
    }
   ],
   "source": [
    "x=20\n",
    "y=5\n",
    "ghatega(x,y)"
   ]
  },
  {
   "cell_type": "code",
   "execution_count": 4,
   "id": "826ba03d-682e-4968-942d-f4dc8547bbbc",
   "metadata": {},
   "outputs": [],
   "source": [
    "def badhega(a,x):\n",
    "    result = a+x\n",
    "    return result"
   ]
  },
  {
   "cell_type": "code",
   "execution_count": 5,
   "id": "8c0d86e5-d98c-4c12-ab7e-981bb85ddc0a",
   "metadata": {},
   "outputs": [
    {
     "data": {
      "text/plain": [
       "102"
      ]
     },
     "execution_count": 5,
     "metadata": {},
     "output_type": "execute_result"
    }
   ],
   "source": [
    "a=100\n",
    "x=2\n",
    "badhega(a,x)"
   ]
  },
  {
   "cell_type": "code",
   "execution_count": 6,
   "id": "82dd3ad6-1b56-4d37-a4fb-e0eccba9b3d1",
   "metadata": {},
   "outputs": [
    {
     "data": {
      "text/plain": [
       "8"
      ]
     },
     "execution_count": 6,
     "metadata": {},
     "output_type": "execute_result"
    }
   ],
   "source": [
    "badhega(5,3)"
   ]
  },
  {
   "cell_type": "code",
   "execution_count": 7,
   "id": "4c6a7158-553c-4cf6-ba2d-a563eba6238e",
   "metadata": {},
   "outputs": [
    {
     "data": {
      "text/plain": [
       "945"
      ]
     },
     "execution_count": 7,
     "metadata": {},
     "output_type": "execute_result"
    }
   ],
   "source": [
    "ghatega(1000,55)"
   ]
  },
  {
   "cell_type": "code",
   "execution_count": 8,
   "id": "9ba2a0b4-8ab5-4f9b-9aa6-3074bfe1e842",
   "metadata": {},
   "outputs": [],
   "source": [
    "def duugna(a,b):\n",
    "    return a**b"
   ]
  },
  {
   "cell_type": "code",
   "execution_count": 9,
   "id": "a74bdf4b-5562-4286-ba51-a07817c570a0",
   "metadata": {},
   "outputs": [
    {
     "data": {
      "text/plain": [
       "7888609052210118054117285652827862296732064351090230047702789306640625"
      ]
     },
     "execution_count": 9,
     "metadata": {},
     "output_type": "execute_result"
    }
   ],
   "source": [
    "duugna(5,100)"
   ]
  },
  {
   "cell_type": "code",
   "execution_count": 15,
   "id": "3dae967f-c96c-4ccc-83d2-0b5b96c2ef64",
   "metadata": {},
   "outputs": [],
   "source": [
    "def greet(name):\n",
    "    print('Ka bolris, '+name)"
   ]
  },
  {
   "cell_type": "code",
   "execution_count": 18,
   "id": "da2e0ab2-366e-4fd5-8168-ad8ef9091867",
   "metadata": {},
   "outputs": [
    {
     "name": "stdout",
     "output_type": "stream",
     "text": [
      "Ka bolris, bhailog\n"
     ]
    }
   ],
   "source": [
    "greet('bhailog')"
   ]
  },
  {
   "cell_type": "code",
   "execution_count": null,
   "id": "085609bc-63c4-4251-ae35-3ce1212c6547",
   "metadata": {},
   "outputs": [],
   "source": []
  }
 ],
 "metadata": {
  "kernelspec": {
   "display_name": "Python 3 (ipykernel)",
   "language": "python",
   "name": "python3"
  },
  "language_info": {
   "codemirror_mode": {
    "name": "ipython",
    "version": 3
   },
   "file_extension": ".py",
   "mimetype": "text/x-python",
   "name": "python",
   "nbconvert_exporter": "python",
   "pygments_lexer": "ipython3",
   "version": "3.11.7"
  }
 },
 "nbformat": 4,
 "nbformat_minor": 5
}
